{
 "cells": [
  {
   "metadata": {
    "ExecuteTime": {
     "end_time": "2024-05-02T09:08:11.604675Z",
     "start_time": "2024-05-02T09:08:10.659285Z"
    }
   },
   "cell_type": "code",
   "source": [
    "import torchtext\n",
    "from torchtext.data import get_tokenizer"
   ],
   "id": "d562d0f56bfccec1",
   "outputs": [
    {
     "name": "stderr",
     "output_type": "stream",
     "text": [
      "/home/tim/Work/proto/proto-mlp/.venv/lib/python3.8/site-packages/torchtext/data/__init__.py:4: UserWarning: \n",
      "/!\\ IMPORTANT WARNING ABOUT TORCHTEXT STATUS /!\\ \n",
      "Torchtext is deprecated and the last released version will be 0.18 (this one). You can silence this warning by calling the following at the beginnign of your scripts: `import torchtext; torchtext.disable_torchtext_deprecation_warning()`\n",
      "  warnings.warn(torchtext._TORCHTEXT_DEPRECATION_MSG)\n"
     ]
    }
   ],
   "execution_count": 1
  },
  {
   "metadata": {
    "ExecuteTime": {
     "end_time": "2024-05-02T09:10:11.861958Z",
     "start_time": "2024-05-02T09:10:11.854513Z"
    }
   },
   "cell_type": "code",
   "source": [
    "tokenizer = get_tokenizer(\"basic_english\")\n",
    "tokens = tokenizer(\"You can now install TorchText using pip!\")\n",
    "tokens"
   ],
   "id": "3e11bfd9a88bd132",
   "outputs": [
    {
     "data": {
      "text/plain": [
       "['you', 'can', 'now', 'install', 'torchtext', 'using', 'pip', '!']"
      ]
     },
     "execution_count": 2,
     "metadata": {},
     "output_type": "execute_result"
    }
   ],
   "execution_count": 2
  },
  {
   "metadata": {
    "ExecuteTime": {
     "end_time": "2024-05-02T09:13:57.816410Z",
     "start_time": "2024-05-02T09:13:57.597008Z"
    }
   },
   "cell_type": "code",
   "source": [
    "# Open the file and read the contents\n",
    "with open('data/war_and_peace.txt', 'r') as file:\n",
    "    content = file.read() \n",
    "    \n",
    "tokens = tokenizer(content)"
   ],
   "id": "2da248973d1247eb",
   "outputs": [],
   "execution_count": 10
  },
  {
   "metadata": {
    "ExecuteTime": {
     "end_time": "2024-05-02T09:14:05.663167Z",
     "start_time": "2024-05-02T09:14:05.659881Z"
    }
   },
   "cell_type": "code",
   "source": "print(tokens[:100])",
   "id": "7300dcffa5a51e3b",
   "outputs": [
    {
     "name": "stdout",
     "output_type": "stream",
     "text": [
      "['chapter', 'i', '“well', ',', 'prince', ',', 'so', 'genoa', 'and', 'lucca', 'are', 'now', 'just', 'family', 'estates', 'of', 'the', 'buonapartes', '.', 'but', 'i', 'warn', 'you', ',', 'if', 'you', 'don’t', 'tell', 'me', 'that', 'this', 'means', 'war', ',', 'if', 'you', 'still', 'try', 'to', 'defend', 'the', 'infamies', 'and', 'horrors', 'perpetrated', 'by', 'that', 'antichrist—i', 'really', 'believe', 'he', 'is', 'antichrist—i', 'will', 'have', 'nothing', 'more', 'to', 'do', 'with', 'you', 'and', 'you', 'are', 'no', 'longer', 'my', 'friend', ',', 'no', 'longer', 'my', '‘faithful', 'slave', ',', '’', 'as', 'you', 'call', 'yourself', '!', 'but', 'how', 'do', 'you', 'do', '?', 'i', 'see', 'i', 'have', 'frightened', 'you—sit', 'down', 'and', 'tell', 'me', 'all', 'the', 'news']\n"
     ]
    }
   ],
   "execution_count": 11
  }
 ],
 "metadata": {
  "kernelspec": {
   "display_name": "Python 3",
   "language": "python",
   "name": "python3"
  },
  "language_info": {
   "codemirror_mode": {
    "name": "ipython",
    "version": 2
   },
   "file_extension": ".py",
   "mimetype": "text/x-python",
   "name": "python",
   "nbconvert_exporter": "python",
   "pygments_lexer": "ipython2",
   "version": "2.7.6"
  }
 },
 "nbformat": 4,
 "nbformat_minor": 5
}
